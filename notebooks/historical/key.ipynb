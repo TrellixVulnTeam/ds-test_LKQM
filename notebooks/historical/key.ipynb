{
 "cells": [
  {
   "cell_type": "markdown",
   "id": "1eea4c35-9806-4ebd-a641-a98eb5ef83c3",
   "metadata": {},
   "source": [
    "# Data Axle Developer Quiz"
   ]
  },
  {
   "cell_type": "markdown",
   "id": "0bd6ad4a-ae33-41d5-8689-5ebd9f565536",
   "metadata": {},
   "source": [
    "Start by importing pandas and numpy"
   ]
  },
  {
   "cell_type": "code",
   "execution_count": 8,
   "id": "46222999-a6f5-451b-8c5c-012a57a8f849",
   "metadata": {},
   "outputs": [],
   "source": [
    "import pandas as pd\n",
    "import numpy as np"
   ]
  },
  {
   "cell_type": "markdown",
   "id": "d3ea71f3-55a9-44cc-822f-03019cc77140",
   "metadata": {},
   "source": [
    "Write a function that takes in number of columns and number of rows, and returns a pandas dataframe with random numbers. This function should contain professional documentation."
   ]
  },
  {
   "cell_type": "code",
   "execution_count": 9,
   "id": "96ffbae5-0e56-474f-9a74-d1da8d00f1de",
   "metadata": {},
   "outputs": [],
   "source": [
    "def create_dataframe(rows: int, columns: int) -> pd.DataFrame:\n",
    "    \"\"\" Create a random dataframe with specificed rows and columns\n",
    "    \n",
    "    Args:\n",
    "        rows (int): number of rows in dataframe\n",
    "        columns (int): number of columns in dataframe\n",
    "        \n",
    "    Returns:\n",
    "        pd.DataFrame\n",
    "    \n",
    "    \"\"\"\n",
    "    random_matrix_array = np.random.randint(1, 10, size=(rows, columns))\n",
    "    return pd.DataFrame(random_matrix_array)"
   ]
  },
  {
   "cell_type": "markdown",
   "id": "49f93fe3-cbe7-44e8-85e1-eb343961ecd5",
   "metadata": {},
   "source": [
    "Add assertion statements that ensure the inputs are always positive integers"
   ]
  },
  {
   "cell_type": "code",
   "execution_count": 16,
   "id": "a44a50dd-9267-42d4-be8f-863e34a51406",
   "metadata": {},
   "outputs": [],
   "source": [
    "def create_dataframe(rows: int, columns: int):\n",
    "    \"\"\"\n",
    "    \n",
    "    \"\"\"\n",
    "    assert type(rows) == int, \"Rows must be integer\"\n",
    "    assert type(columns) == int, \"Columns must be integer\"\n",
    "    assert rows > 0, \"Rows must be > 0\"\n",
    "    assert columns > 0, \"Columns must be > 0\"\n",
    "   \n",
    "    random_matrix_array = np.random.randint(1, 10, size=(rows, columns))\n",
    "    return pd.DataFrame(random_matrix_array)"
   ]
  },
  {
   "cell_type": "markdown",
   "id": "58429bb9-a877-460f-a658-5067c881313b",
   "metadata": {},
   "source": [
    "## Git"
   ]
  },
  {
   "cell_type": "markdown",
   "id": "8e516dc7-b856-4ce4-9a9e-95392ae84cdb",
   "metadata": {},
   "source": [
    "1. Generate ssh keys.\n",
    "2. Discuss how you would add ssh keys to your version control system.\n",
    "3. What is the difference between cloning using https vs ssh?\n",
    "4. Write a command that clones this repo (via ssh): https://github.com/jacobweiss2305/ds-test\n",
    "5. Write a command that creates and checks out a new branch\n",
    "6. Assume you made changes in the current branch how could you check which files changed?\n",
    "7. Write a command that adds all of your new changes and commit them using this message \"update files\"."
   ]
  },
  {
   "cell_type": "markdown",
   "id": "a51cd4ef-8577-4cff-92a4-339d935a73b1",
   "metadata": {},
   "source": [
    "1. ssh-keygen\n",
    "2. Update personal settings in VCS\n",
    "3. Cloning HTTPS requires a password in the terminal and SSH allows interaction without password\n",
    "4. git clone git@github.com:jacobweiss2305/ds-test.git\n",
    "5. git branch new_branch && git checkout new_branch\n",
    "6. git status\n",
    "7. git add . && git commit -m \"update files\""
   ]
  },
  {
   "cell_type": "markdown",
   "id": "88c65bd8-234f-488e-ab26-6b88345cee22",
   "metadata": {},
   "source": [
    "## Docker"
   ]
  },
  {
   "cell_type": "markdown",
   "id": "3618d05c-5f32-498c-8455-3ee53b992d70",
   "metadata": {},
   "source": [
    "Write a docker file that includes:\n",
    "- Ubuntu 20.04\n",
    "- Updating apt-get and install apt-get\n",
    "- set environment variable: PATH=\"/miniconda/bin:$PATH\"\n",
    "- set working directory to: /opt/mlflow"
   ]
  },
  {
   "cell_type": "raw",
   "id": "18c75d64-a3b8-49f8-b436-392e98897cca",
   "metadata": {},
   "source": [
    "from ubuntu:20.04\n",
    "\n",
    "RUN apt-get -y update && apt-get install -y\n",
    "\n",
    "ENV PATH=\"/miniconda/bin:$PATH\"\n",
    "\n",
    "WORKDIR /opt/mlflow"
   ]
  },
  {
   "cell_type": "code",
   "execution_count": null,
   "id": "65f77c27-3080-4aed-ad37-13e3dcf9d8c8",
   "metadata": {},
   "outputs": [],
   "source": []
  }
 ],
 "metadata": {
  "kernelspec": {
   "display_name": "Python 3 (ipykernel)",
   "language": "python",
   "name": "python3"
  },
  "language_info": {
   "codemirror_mode": {
    "name": "ipython",
    "version": 3
   },
   "file_extension": ".py",
   "mimetype": "text/x-python",
   "name": "python",
   "nbconvert_exporter": "python",
   "pygments_lexer": "ipython3",
   "version": "3.8.10"
  }
 },
 "nbformat": 4,
 "nbformat_minor": 5
}
